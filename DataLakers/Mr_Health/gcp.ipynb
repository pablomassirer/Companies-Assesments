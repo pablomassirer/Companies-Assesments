{
 "cells": [
  {
   "cell_type": "markdown",
   "metadata": {},
   "source": [
    "#### Descrição\n",
    "\n",
    "> Notebook responsável por criar bucket e realizar excusão de arquivos dele se necessário"
   ]
  },
  {
   "cell_type": "markdown",
   "metadata": {},
   "source": [
    "##### Imports"
   ]
  },
  {
   "cell_type": "code",
   "execution_count": 5,
   "metadata": {},
   "outputs": [],
   "source": [
    "# Imports the Google Cloud client library\n",
    "from google.cloud import storage\n",
    "\n",
    "# Instantiates a client\n",
    "storage_client = storage.Client()"
   ]
  },
  {
   "cell_type": "markdown",
   "metadata": {},
   "source": [
    "##### Create Bucket"
   ]
  },
  {
   "cell_type": "code",
   "execution_count": 2,
   "metadata": {},
   "outputs": [
    {
     "name": "stdout",
     "output_type": "stream",
     "text": [
      "Bucket mr_health created.\n"
     ]
    }
   ],
   "source": [
    "# The name for the new bucket\n",
    "bucket_name = \"mr_health\"\n",
    "\n",
    "# Creates the new bucket\n",
    "bucket = storage_client.create_bucket(bucket_name)\n",
    "\n",
    "print(f\"Bucket {bucket.name} created.\")"
   ]
  },
  {
   "cell_type": "markdown",
   "metadata": {},
   "source": [
    "##### Delete Bucket Content"
   ]
  },
  {
   "cell_type": "code",
   "execution_count": 6,
   "metadata": {},
   "outputs": [
    {
     "name": "stdout",
     "output_type": "stream",
     "text": [
      "<Blob: mr_health, ingestion_layer/estado.csv, 1691027247500138>\n",
      "<Blob: mr_health, ingestion_layer/item_pedido.csv, 1691027247845431>\n",
      "<Blob: mr_health, ingestion_layer/pais.csv, 1691027248195367>\n",
      "<Blob: mr_health, ingestion_layer/pedido.csv, 1691027248545877>\n",
      "<Blob: mr_health, ingestion_layer/produto.csv, 1691027248898668>\n",
      "<Blob: mr_health, ingestion_layer/unidade.csv, 1691027249258424>\n"
     ]
    }
   ],
   "source": [
    "# Instantiates a client\n",
    "storage_client = storage.Client()\n",
    "\n",
    "# The name for the new bucket\n",
    "bucket_name = \"mr_health\"\n",
    "bucket = storage_client.get_bucket(bucket_name)\n",
    "# Creates the new bucket\n",
    "blobs = bucket.list_blobs(prefix='ingestion_layer')\n",
    "for blob in blobs:\n",
    "    print(blob)"
   ]
  }
 ],
 "metadata": {
  "kernelspec": {
   "display_name": "dedsVenv",
   "language": "python",
   "name": "python3"
  },
  "language_info": {
   "codemirror_mode": {
    "name": "ipython",
    "version": 3
   },
   "file_extension": ".py",
   "mimetype": "text/x-python",
   "name": "python",
   "nbconvert_exporter": "python",
   "pygments_lexer": "ipython3",
   "version": "3.10.5"
  },
  "orig_nbformat": 4
 },
 "nbformat": 4,
 "nbformat_minor": 2
}
